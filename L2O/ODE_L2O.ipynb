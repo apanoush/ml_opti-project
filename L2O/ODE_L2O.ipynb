{
 "cells": [
  {
   "cell_type": "code",
   "execution_count": 1,
   "id": "initial_id",
   "metadata": {
    "collapsed": true,
    "ExecuteTime": {
     "end_time": "2025-05-28T14:45:27.756052900Z",
     "start_time": "2025-05-28T14:45:22.813773600Z"
    }
   },
   "outputs": [],
   "source": [
    "import torch\n",
    "import torch.nn as nn\n",
    "import torch.nn.functional as F\n",
    "import matplotlib.pyplot as plt\n",
    "import numpy as np\n",
    "from scipy.integrate import solve_ivp\n",
    "\n",
    "device = 'cuda' if torch.cuda.is_available() else 'cpu'\n",
    "#torch.manual_seed(42)"
   ]
  },
  {
   "cell_type": "code",
   "execution_count": 3,
   "outputs": [],
   "source": [
    "def logistic_ode(t, y, r=0.1, K=10):\n",
    "    return r * y * (1 - y / K)"
   ],
   "metadata": {
    "collapsed": false,
    "ExecuteTime": {
     "end_time": "2025-05-28T14:45:28.097100500Z",
     "start_time": "2025-05-28T14:45:28.074295500Z"
    }
   },
   "id": "fe0a95c237903c1a"
  },
  {
   "cell_type": "code",
   "execution_count": 4,
   "outputs": [
    {
     "name": "stdout",
     "output_type": "stream",
     "text": [
      "torch.Size([9900, 1]) torch.Size([9900, 1])\n",
      "torch.Size([1980, 1]) torch.Size([1980, 1])\n"
     ]
    }
   ],
   "source": [
    "def generate_logistic_dataset(num_trajectories=100, t_span=[0, 10], dt=0.1):\n",
    "    t_eval = np.arange(t_span[0], t_span[1], dt)\n",
    "    X_list, y_list = [], []\n",
    "\n",
    "    for _ in range(num_trajectories):\n",
    "        y0 = np.random.uniform(0.1, 5.0)\n",
    "        sol = solve_ivp(logistic_ode, t_span, [y0], t_eval=t_eval, args=(0.1, 10))\n",
    "        traj = sol.y[0]  # shape: (len(t_eval),)\n",
    "\n",
    "        # Create pairs (y(t), y(t+dt))\n",
    "        for i in range(len(traj) - 1):\n",
    "            X_list.append([traj[i]])\n",
    "            y_list.append([traj[i+1]])\n",
    "\n",
    "    X = torch.tensor(X_list, dtype=torch.float32)\n",
    "    y = torch.tensor(y_list, dtype=torch.float32)\n",
    "    return X.to(device), y.to(device)\n",
    "\n",
    "X_train, y_train = generate_logistic_dataset(num_trajectories=100)\n",
    "X_test, y_test = generate_logistic_dataset(num_trajectories=20)\n",
    "print(X_train.cpu().shape, y_train.cpu().shape)\n",
    "print(X_test.cpu().shape, y_test.cpu().shape)"
   ],
   "metadata": {
    "collapsed": false,
    "ExecuteTime": {
     "end_time": "2025-05-28T14:45:28.227236900Z",
     "start_time": "2025-05-28T14:45:28.090582100Z"
    }
   },
   "id": "2ea6ff63aadd019a"
  },
  {
   "cell_type": "code",
   "execution_count": 5,
   "outputs": [],
   "source": [
    "#class ToyModel(nn.Module):\n",
    "#    def __init__(self):\n",
    "#        super().__init__()\n",
    "#        self.fc1 = nn.Linear(1, 4)\n",
    "#        self.fc2 = nn.Linear(4, 1)\n",
    "#\n",
    "#    def forward(self, x, params=None):\n",
    "#        if params is None:\n",
    "#            return self.fc2(torch.tanh(self.fc1(x)))\n",
    "#        else:\n",
    "#            x = F.linear(x, params['fc1.weight'], params['fc1.bias'])\n",
    "#            x = torch.tanh(x)\n",
    "#            x = F.linear(x, params['fc2.weight'], params['fc2.bias'])\n",
    "#            return x"
   ],
   "metadata": {
    "collapsed": false,
    "ExecuteTime": {
     "end_time": "2025-05-28T14:45:28.227236900Z",
     "start_time": "2025-05-28T14:45:28.217023900Z"
    }
   },
   "id": "3e86e602cebacc03"
  },
  {
   "cell_type": "code",
   "execution_count": 6,
   "outputs": [],
   "source": [
    "class ODEPredictor(nn.Module):\n",
    "    def __init__(self):\n",
    "        super().__init__()\n",
    "        self.fc1 = nn.Linear(1, 16)   # a bit wider hidden layer for ODE\n",
    "        self.fc2 = nn.Linear(16, 1)\n",
    "\n",
    "    def forward(self, x, params=None):\n",
    "        if params is None:\n",
    "            x = F.linear(x, self.fc1.weight, self.fc1.bias)\n",
    "            x = torch.tanh(x)\n",
    "            x = F.linear(x, self.fc2.weight, self.fc2.bias)\n",
    "        else:\n",
    "            x = F.linear(x, params['fc1.weight'], params['fc1.bias'])\n",
    "            x = torch.tanh(x)\n",
    "            x = F.linear(x, params['fc2.weight'], params['fc2.bias'])\n",
    "        return x"
   ],
   "metadata": {
    "collapsed": false,
    "ExecuteTime": {
     "end_time": "2025-05-28T14:45:28.250659700Z",
     "start_time": "2025-05-28T14:45:28.226232200Z"
    }
   },
   "id": "6b2c5f10106776a0"
  },
  {
   "cell_type": "code",
   "execution_count": 7,
   "outputs": [],
   "source": [
    "class ScalarWiseLSTMOptimizer(nn.Module):\n",
    "    def __init__(self, hidden_size=10):\n",
    "        super().__init__()\n",
    "        self.lstm = nn.LSTMCell(1, hidden_size)\n",
    "        self.linear = nn.Linear(hidden_size, 1)\n",
    "        self.hidden_size = hidden_size\n",
    "\n",
    "    def forward(self, grad_input, state):\n",
    "        h, c = self.lstm(grad_input, state)\n",
    "        delta = self.linear(h)\n",
    "\n",
    "        # Add activation + scale to control step size\n",
    "        scaled_delta = 0.1 * torch.tanh(delta)\n",
    "\n",
    "        return scaled_delta, (h, c)\n"
   ],
   "metadata": {
    "collapsed": false,
    "ExecuteTime": {
     "end_time": "2025-05-28T14:45:28.250659700Z",
     "start_time": "2025-05-28T14:45:28.237145600Z"
    }
   },
   "id": "c98cc84764a62dd0"
  },
  {
   "cell_type": "code",
   "execution_count": 8,
   "outputs": [],
   "source": [
    "def meta_train_l2o(optimizer_net, meta_iters=200, unroll_steps=10):\n",
    "    meta_optim = torch.optim.Adam(optimizer_net.parameters(), lr=1e-3)\n",
    "\n",
    "    for meta_iter in range(meta_iters):\n",
    "        model = ODEPredictor().to(device)\n",
    "        param_dict = {name: p.clone().requires_grad_(True) for name, p in model.named_parameters()}\n",
    "\n",
    "        # Init hidden states\n",
    "        states = {\n",
    "            name: [\n",
    "                (\n",
    "                    torch.zeros(1, optimizer_net.hidden_size, device=device),\n",
    "                    torch.zeros(1, optimizer_net.hidden_size, device=device)\n",
    "                ) for _ in p.view(-1)\n",
    "            ]\n",
    "            for name, p in param_dict.items()\n",
    "        }\n",
    "\n",
    "        losses = []\n",
    "        for step in range(unroll_steps):\n",
    "            # Forward pass\n",
    "            y_pred = model(X_train, param_dict)\n",
    "            loss = F.mse_loss(y_pred, y_train)\n",
    "            losses.append(loss)\n",
    "\n",
    "            # Compute gradients w.r.t. current parameters\n",
    "            grads = torch.autograd.grad(loss, param_dict.values(), create_graph=True)\n",
    "\n",
    "            # Apply learned optimizer update per scalar param\n",
    "            new_param_dict = {}\n",
    "            for (name, p), g in zip(param_dict.items(), grads):\n",
    "                flat_p = p.view(-1)\n",
    "                flat_g = g.view(-1)\n",
    "                updated_flat = []\n",
    "\n",
    "                for i in range(len(flat_p)):\n",
    "                    grad_i = flat_g[i].unsqueeze(0).unsqueeze(0)  # shape [1, 1]\n",
    "                    h_i, c_i = states[name][i]\n",
    "                    h_i = h_i.detach()\n",
    "                    c_i = c_i.detach()\n",
    "\n",
    "                    delta, (h_new, c_new) = optimizer_net(grad_i, (h_i, c_i))\n",
    "\n",
    "                    # DEBUG: ensure delta depends on optimizer_net\n",
    "                    assert delta.requires_grad, \"delta must require grad!\"\n",
    "\n",
    "                    updated_flat.append((flat_p[i] - delta.squeeze(0)))\n",
    "                    states[name][i] = (h_new, c_new)\n",
    "\n",
    "                new_p = torch.stack(updated_flat).view_as(p)\n",
    "                new_param_dict[name] = new_p\n",
    "\n",
    "            # Prepare for next unroll step\n",
    "            param_dict = {k: v.clone().requires_grad_(True) for k, v in new_param_dict.items()}\n",
    "\n",
    "        # Meta-optimization step\n",
    "        meta_loss = losses[-1]  # only last-step loss\n",
    "        meta_optim.zero_grad()\n",
    "        meta_loss.backward()\n",
    "        meta_optim.step()\n",
    "\n",
    "        if meta_iter % 10 == 0:\n",
    "            print(f\"[{meta_iter}] Meta-loss: {meta_loss.item():.6f}\")\n"
   ],
   "metadata": {
    "collapsed": false,
    "ExecuteTime": {
     "end_time": "2025-05-28T14:45:28.310143700Z",
     "start_time": "2025-05-28T14:45:28.255029400Z"
    }
   },
   "id": "160db1b3ca81057c"
  },
  {
   "cell_type": "code",
   "execution_count": 9,
   "outputs": [
    {
     "name": "stdout",
     "output_type": "stream",
     "text": [
      "[0] Meta-loss: 25.370157\n",
      "[10] Meta-loss: 15.812302\n",
      "[20] Meta-loss: 12.066708\n",
      "[30] Meta-loss: 11.048346\n",
      "[40] Meta-loss: 7.785262\n",
      "[50] Meta-loss: 2.687047\n",
      "[60] Meta-loss: 2.714801\n",
      "[70] Meta-loss: 1.327328\n",
      "[80] Meta-loss: 1.531000\n",
      "[90] Meta-loss: 1.642604\n",
      "[100] Meta-loss: 1.108204\n",
      "[110] Meta-loss: 1.125583\n",
      "[120] Meta-loss: 2.014748\n",
      "[130] Meta-loss: 2.040652\n",
      "[140] Meta-loss: 1.508212\n",
      "[150] Meta-loss: 1.522499\n",
      "[160] Meta-loss: 1.747388\n",
      "[170] Meta-loss: 1.210196\n",
      "[180] Meta-loss: 1.159284\n",
      "[190] Meta-loss: 1.537615\n"
     ]
    }
   ],
   "source": [
    "optimizer_net = ScalarWiseLSTMOptimizer().to(device)\n",
    "meta_train_l2o(optimizer_net)"
   ],
   "metadata": {
    "collapsed": false,
    "ExecuteTime": {
     "end_time": "2025-05-28T14:47:46.457391400Z",
     "start_time": "2025-05-28T14:45:28.265225200Z"
    }
   },
   "id": "5ec7ebf590f6af69"
  },
  {
   "cell_type": "code",
   "execution_count": 10,
   "outputs": [],
   "source": [
    "def evaluate_optimizer(optimizer_net, steps=100):\n",
    "    model = ODEPredictor().to(device)\n",
    "    param_dict = {k: v.clone().detach().requires_grad_(True) for k, v in model.named_parameters()}\n",
    "\n",
    "    # Initialize hidden states per scalar parameter\n",
    "    states = {\n",
    "        k: [\n",
    "            (\n",
    "                torch.zeros(1, optimizer_net.hidden_size).to(device),\n",
    "                torch.zeros(1, optimizer_net.hidden_size).to(device)\n",
    "            ) for _ in v.view(-1)\n",
    "        ]\n",
    "        for k, v in param_dict.items()\n",
    "    }\n",
    "\n",
    "    losses_l2o = []\n",
    "\n",
    "    for step in range(steps):\n",
    "        pred = model(X_test, param_dict)\n",
    "        loss = F.mse_loss(pred, y_test)\n",
    "        losses_l2o.append(loss.item())\n",
    "\n",
    "        grads = torch.autograd.grad(loss, param_dict.values())\n",
    "\n",
    "        new_params = {}\n",
    "        for (name, p), g in zip(param_dict.items(), grads):\n",
    "            flat_p = p.view(-1)\n",
    "            flat_g = g.view(-1)\n",
    "            updated_flat = []\n",
    "\n",
    "            for i in range(len(flat_p)):\n",
    "                grad_i = flat_g[i].view(1, 1)\n",
    "                h_i, c_i = states[name][i]\n",
    "                delta, (h_new, c_new) = optimizer_net(grad_i, (h_i, c_i))\n",
    "                updated_val = flat_p[i] - delta.squeeze(0)\n",
    "                updated_flat.append(updated_val)\n",
    "                states[name][i] = (h_new, c_new)\n",
    "\n",
    "            new_p = torch.stack(updated_flat).view_as(p)\n",
    "            new_params[name] = new_p\n",
    "\n",
    "        param_dict = {k: v.clone().detach().requires_grad_(True) for k, v in new_params.items()}\n",
    "\n",
    "    return losses_l2o"
   ],
   "metadata": {
    "collapsed": false,
    "ExecuteTime": {
     "end_time": "2025-05-28T14:47:46.474302500Z",
     "start_time": "2025-05-28T14:47:46.462391400Z"
    }
   },
   "id": "e884c7b90a11c943"
  },
  {
   "cell_type": "code",
   "execution_count": 11,
   "outputs": [],
   "source": [
    "def evaluate_adam(steps=100):\n",
    "    model = ODEPredictor().to(device)\n",
    "    optimizer = torch.optim.Adam(model.parameters(), lr=1e-2)\n",
    "\n",
    "    losses_adam = []\n",
    "    for step in range(steps):\n",
    "        pred = model(X_test)\n",
    "        loss = F.mse_loss(pred, y_test)\n",
    "        losses_adam.append(loss.item())\n",
    "        optimizer.zero_grad()\n",
    "        loss.backward()\n",
    "        optimizer.step()\n",
    "\n",
    "    return losses_adam"
   ],
   "metadata": {
    "collapsed": false,
    "ExecuteTime": {
     "end_time": "2025-05-28T14:47:46.475469700Z",
     "start_time": "2025-05-28T14:47:46.468721400Z"
    }
   },
   "id": "946f74ab28bbfde5"
  },
  {
   "cell_type": "code",
   "execution_count": 12,
   "outputs": [
    {
     "data": {
      "text/plain": "<Figure size 640x480 with 1 Axes>",
      "image/png": "[encoded data removed]"
     },
     "metadata": {},
     "output_type": "display_data"
    }
   ],
   "source": [
    "l2o_losses = evaluate_optimizer(optimizer_net)\n",
    "adam_losses = evaluate_adam()\n",
    "\n",
    "plt.plot(l2o_losses, label=\"L2O\")\n",
    "plt.plot(adam_losses, label=\"Adam\")\n",
    "plt.xlabel(\"Optimization Step\")\n",
    "plt.ylabel(\"Loss\")\n",
    "plt.title(\"Toy ODE: L2O vs Adam\")\n",
    "plt.legend()\n",
    "plt.grid(True)\n",
    "plt.show()"
   ],
   "metadata": {
    "collapsed": false,
    "ExecuteTime": {
     "end_time": "2025-05-28T14:47:48.836402500Z",
     "start_time": "2025-05-28T14:47:46.478471200Z"
    }
   },
   "id": "49a5999a1b897fe6"
  }
 ],
 "metadata": {
  "kernelspec": {
   "display_name": "Python 3",
   "language": "python",
   "name": "python3"
  },
  "language_info": {
   "codemirror_mode": {
    "name": "ipython",
    "version": 2
   },
   "file_extension": ".py",
   "mimetype": "text/x-python",
   "name": "python",
   "nbconvert_exporter": "python",
   "pygments_lexer": "ipython2",
   "version": "2.7.6"
  }
 },
 "nbformat": 4,
 "nbformat_minor": 5
}
